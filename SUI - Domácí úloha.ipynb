{
 "cells": [
  {
   "cell_type": "markdown",
   "metadata": {},
   "source": [
    "Vítejte u domácí úlohy do SUI.\n",
    "V rámci úlohy Vás čeká několik cvičení, v nichž budete doplňovat poměrně malé fragmenty kódu, místo na ně je vyznačené jako `pass` nebo `None`.\n",
    "Pokud se v buňce s kódem již něco nachází, využijte/neničte to.\n",
    "V dvou případech se očekává textová odpověď, tu uvedete přímo do zadávající buňky.\n",
    "Buňky nerušte ani nepřidávejte.\n",
    "\n",
    "Maximálně využívejte `numpy` a `torch` pro hromadné operace na celých polích.\n",
    "S výjimkou generátoru minibatchí by se nikde neměl objevit cyklus jdoucí přes jednotlivé příklady.\n",
    "\n",
    "U všech cvičení je uveden počet bodů za funkční implementaci a orientační počet potřebných řádků.\n",
    "Berte ho prosím opravdu jako orientační, pozornost mu věnujte pouze, pokud ho významně překračujete.\n",
    "Mnoho zdaru!"
   ]
  },
  {
   "cell_type": "markdown",
   "metadata": {},
   "source": [
    "# Informace o vzniku řešení\n",
    "Vyplňte následující údaje **(3 údaje, 0 bodů)**\n",
    "\n",
    "* Jméno autora: Dominik Harmim\n",
    "* Login autora: xharmi00\n",
    "* Datum vzniku: 31.10.2020"
   ]
  },
  {
   "cell_type": "code",
   "execution_count": 1,
   "metadata": {},
   "outputs": [],
   "source": [
    "import numpy as np\n",
    "import copy\n",
    "import matplotlib.pyplot as plt\n",
    "import scipy.stats\n",
    "\n",
    "# just for type hints\n",
    "from typing import Tuple, Iterable, List"
   ]
  },
  {
   "cell_type": "markdown",
   "metadata": {},
   "source": [
    "# Přípravné práce\n",
    "Prvním úkolem v této domácí úloze je načíst data, s nimiž budete pracovat.\n",
    "Vybudujte jednoduchou třídu, která se umí zkonstruovat z cesty k negativním a pozitivním příkladům, a bude poskytovat:\n",
    "\n",
    "* pozitivní a negativní příklady (`dataset.pos`, `dataset.neg` o rozměrech [N, 7]),\n",
    "* všechny příklady a odpovídající třídy (`dataset.xs` o rozměru [N, 7], `dataset.targets` o rozměru [N]).\n",
    "\n",
    "K načítání dat doporučujeme využít `np.loadtxt()`.\n",
    "Netrapte se se zapouzdřováním a gettery, berte třídu jako Plain Old Data.\n",
    "\n",
    "Načtěte trénovací (`{positives, negatives}.trn`), validační (`{positives, negatives}.val`) a testovací (`{positives, negatives}.tst`) dataset, pojmenujte je po řadě (`train_dataset`, `val_dataset`, `test_dataset`). \n",
    "\n",
    "**(6 + 3 řádků, 1 bod)** \n"
   ]
  },
  {
   "cell_type": "code",
   "execution_count": 2,
   "metadata": {},
   "outputs": [
    {
     "name": "stdout",
     "output_type": "stream",
     "text": [
      "positives (2280, 7)\n",
      "negatives (6841, 7)\n",
      "xs (9121, 7)\n",
      "targets (9121,)\n"
     ]
    }
   ],
   "source": [
    "class Dataset:\n",
    "    def __init__(self, pos: str, neg: str) -> None:\n",
    "        super().__init__()\n",
    "        self.pos = np.loadtxt(pos, dtype=float, delimiter=' ')\n",
    "        self.neg = np.loadtxt(neg, dtype=float, delimiter=' ')\n",
    "        self.xs = np.concatenate((self.pos, self.neg))\n",
    "        self.targets = np.concatenate(\n",
    "            (np.repeat(1, len(self.pos)), np.repeat(0, len(self.neg)))\n",
    "        )\n",
    "\n",
    "train_dataset = Dataset('positives.trn', 'negatives.trn')\n",
    "val_dataset = Dataset('positives.val', 'negatives.val')\n",
    "test_dataset = Dataset('positives.tst', 'negatives.tst')\n",
    "\n",
    "print('positives', train_dataset.pos.shape)\n",
    "print('negatives', train_dataset.neg.shape)\n",
    "print('xs', train_dataset.xs.shape)\n",
    "print('targets', train_dataset.targets.shape)"
   ]
  },
  {
   "cell_type": "markdown",
   "metadata": {},
   "source": [
    "V řadě následujících cvičení budete pracovat s jedním konkrétním příznakem. Naimplementujte pro začátek funkci, která vykreslí histogram rozložení pozitivních a negativních příkladů (`plt.hist()`). Nezapomeňte na legendu, ať je v grafu jasné, které jsou které. Funkci zavolejte dvakrát, vykreslete histogram příznaku `5` -- tzn. šestého ze sedmi -- pro trénovací a validační data **(5 řádků, 1 bod)**."
   ]
  },
  {
   "cell_type": "code",
   "execution_count": 3,
   "metadata": {},
   "outputs": [
    {
     "data": {
      "image/png": "[encoded data removed]",
      "text/plain": [
       "<Figure size 432x288 with 1 Axes>"
      ]
     },
     "metadata": {
      "needs_background": "light"
     },
     "output_type": "display_data"
    },
    {
     "data": {
      "image/png": "[encoded data removed]",
      "text/plain": [
       "<Figure size 432x288 with 1 Axes>"
      ]
     },
     "metadata": {
      "needs_background": "light"
     },
     "output_type": "display_data"
    }
   ],
   "source": [
    "FOI = 5  # Feature Of Interest\n",
    "\n",
    "def plot_data(poss: np.ndarray, negs: np.ndarray) -> None:\n",
    "    plt.hist(\n",
    "        (poss, negs), bins=11, alpha=.4, histtype='stepfilled',\n",
    "        color=('green', 'red'),\n",
    "        label=('Positive Examples', 'Negative Examples')\n",
    "    )\n",
    "    plt.legend()\n",
    "    plt.xlabel('Value')\n",
    "    plt.ylabel('Frequency')\n",
    "    plt.show()\n",
    "\n",
    "plot_data(train_dataset.pos[:, FOI], train_dataset.neg[:, FOI])\n",
    "plot_data(val_dataset.pos[:, FOI], val_dataset.neg[:, FOI])"
   ]
  },
  {
   "cell_type": "markdown",
   "metadata": {},
   "source": [
    "## Evaluace klasifikátorů\n",
    "Než přistoupíte k tvorbě jednotlivých klasifikátorů, vytvořte funkci pro jejich vyhodnocování.\n",
    "Nechť se jmenuje `evaluate` a přijímá po řadě klasifikátor, pole dat (o rozměrech [N] nebo [N, F]) a pole tříd ([N]).\n",
    "Jejím výstupem bude _přesnost_, tzn. podíl správně klasifikovaných příkladů.\n",
    "\n",
    "Předpokládejte, že klasifikátor poskytuje metodu `.prob_class_1(data)`, která vrací pole posteriorních pravděpodobností třídy 1 (tj. $p(y = 1\\, |\\, x)$) pro daná data.\n",
    "Evaluační funkce bude muset provést tvrdé prahování (na hodnotě 0.5) těchto pravděpodobností a srovnání získaných rozhodnutí s referenčními třídami.\n",
    "Využijte fakt, že `numpy`ovská pole lze mj. porovnávat mezi sebou i se skalárem.\n",
    "\n",
    "**(3 řádky, 1 bod)**"
   ]
  },
  {
   "cell_type": "code",
   "execution_count": 4,
   "metadata": {},
   "outputs": [
    {
     "name": "stdout",
     "output_type": "stream",
     "text": [
      "0.6666666666666666\n"
     ]
    }
   ],
   "source": [
    "def evaluate(classifier: object, inputs: np.ndarray,\n",
    "             targets: np.ndarray) -> float:\n",
    "    y = (classifier.prob_class_1(inputs) > .5).astype(int)\n",
    "    same_values = (y == targets).astype(int)\n",
    "    return np.mean(same_values)\n",
    "\n",
    "class Dummy:\n",
    "    def prob_class_1(self, xs: np.ndarray) -> np.ndarray:\n",
    "        return np.asarray([.2, .7, .7])\n",
    "\n",
    "# should be 0.66...\n",
    "print(evaluate(Dummy(), np.asarray([]), np.asarray([0, 0, 1])))"
   ]
  },
  {
   "cell_type": "markdown",
   "metadata": {},
   "source": [
    "## Baseline\n",
    "Vytvořte klasifikátor, který ignoruje vstupní hodnotu dat.\n",
    "Jenom v konstruktoru dostane třídu, kterou má dávat jako tip pro libovolný vstup.\n",
    "Nezapomeňte, že jeho metoda `.prob_class_1(data)` musí vracet pole správné velikosti, využijte `np.ones` nebo `np.full`.\n",
    "\n",
    "**(4 řádky, 1 bod)**"
   ]
  },
  {
   "cell_type": "code",
   "execution_count": 5,
   "metadata": {},
   "outputs": [
    {
     "name": "stdout",
     "output_type": "stream",
     "text": [
      "Baseline val acc: 0.75\n"
     ]
    }
   ],
   "source": [
    "class PriorClassifier:\n",
    "    def __init__(self, t: int) -> None:\n",
    "        super().__init__()\n",
    "        self.__t = t\n",
    "\n",
    "    def prob_class_1(self, xs: np.ndarray) -> np.ndarray:\n",
    "        return np.full(len(xs), self.__t, dtype=float)\n",
    "\n",
    "baseline = PriorClassifier(0)\n",
    "val_acc = evaluate(baseline, val_dataset.xs[:, FOI], val_dataset.targets)\n",
    "\n",
    "print('Baseline val acc:', val_acc)"
   ]
  },
  {
   "cell_type": "markdown",
   "metadata": {},
   "source": [
    "# Generativní klasifikátory\n",
    "V této  části vytvoříte dva generativní klasifikátory, oba založené na Gaussovu rozložení pravděpodobnosti.\n",
    "\n",
    "Začněte implementací funkce, která pro daná 1-D data vrátí Maximum Likelihood odhad střední hodnoty a směrodatné odchylky Gaussova rozložení, které data modeluje.\n",
    "Funkci využijte pro natrénovaní dvou modelů: pozitivních a negativních příkladů.\n",
    "Získané parametry -- tzn. střední hodnoty a směrodatné odchylky -- vypište.\n",
    "\n",
    "**(5 řádků, 0.5 bodu)**"
   ]
  },
  {
   "cell_type": "code",
   "execution_count": 6,
   "metadata": {},
   "outputs": [
    {
     "name": "stdout",
     "output_type": "stream",
     "text": [
      "Positive Examples - Mean: 0.478428821613158\n",
      "Positive Examples - Standard Deviation: 0.12971703647258465\n",
      "Negative Examples - Mean: 0.17453641132613792\n",
      "Negative Examples - Standard Deviation: 0.17895975196381242\n"
     ]
    }
   ],
   "source": [
    "def gauss_ml_params(xs: np.ndarray) -> Tuple[float, float]:\n",
    "    return np.mean(xs, dtype=float), np.std(xs, dtype=float)\n",
    "\n",
    "train_pos_mean, train_pos_std = gauss_ml_params(train_dataset.pos[:, FOI])\n",
    "train_neg_mean, train_neg_std = gauss_ml_params(train_dataset.neg[:, FOI])\n",
    "\n",
    "print(f'Positive Examples - Mean: {train_pos_mean}')\n",
    "print(f'Positive Examples - Standard Deviation: {train_pos_std}')\n",
    "print(f'Negative Examples - Mean: {train_neg_mean}')\n",
    "print(f'Negative Examples - Standard Deviation: {train_neg_std}')"
   ]
  },
  {
   "cell_type": "markdown",
   "metadata": {},
   "source": [
    "Ze získaných parametrů vytvořte `scipy`ovská gaussovská rozložení `scipy.stats.norm`.\n",
    "S využitím jejich metody `.pdf()` vytvořte graf, v němž srovnáte skutečné a modelové rozložení pozitivních a negativních příkladů.\n",
    "Rozsah x-ové osy volte od -0.5 do 1.5 (využijte `np.linspace`) a u volání `plt.hist()` nezapomeňte nastavit `density=True`, aby byl histogram normalizovaný a dal se srovnávat s modelem.\n",
    "\n",
    "**(2 + 8 řádků, 1 bod)**"
   ]
  },
  {
   "cell_type": "code",
   "execution_count": 7,
   "metadata": {},
   "outputs": [
    {
     "data": {
      "image/png": "[encoded data removed]",
      "text/plain": [
       "<Figure size 432x288 with 1 Axes>"
      ]
     },
     "metadata": {
      "needs_background": "light"
     },
     "output_type": "display_data"
    }
   ],
   "source": [
    "train_pos_norm = scipy.stats.norm(loc=train_pos_mean, scale=train_pos_std)\n",
    "train_neg_norm = scipy.stats.norm(loc=train_neg_mean, scale=train_neg_std)\n",
    "\n",
    "xs = np.linspace(-.5, 1.5, 100)\n",
    "plt.plot(\n",
    "    xs, train_pos_norm.pdf(xs), color='green',\n",
    "    label='Positive Examples (Model)'\n",
    ")\n",
    "plt.plot(\n",
    "    xs, train_neg_norm.pdf(xs), color='red',\n",
    "    label='Negative Examples (Model)'\n",
    ")\n",
    "plt.hist(\n",
    "    (train_dataset.pos[:, FOI], train_dataset.neg[:, FOI]), bins=11,\n",
    "    density=True, color=('green', 'red'), alpha=.4, histtype='stepfilled',\n",
    "    label=('Positive Examples (Real)', 'Negative Examples (Real)')\n",
    ")\n",
    "plt.legend()\n",
    "plt.xlabel('Value')\n",
    "plt.ylabel('Probability Density')\n",
    "plt.show()"
   ]
  },
  {
   "cell_type": "markdown",
   "metadata": {},
   "source": [
    "Naimplementujte binární generativní klasifikátor. \n",
    "Při konstrukci přijímá dvě rozložení poskytující metodu `.pdf()` a odpovídající apriorní pravděpodobnost tříd.\n",
    "Jako všechny klasifikátory v této domácí úloze poskytuje metodu `prob_class_1()`.\n",
    "\n",
    "**(9 řádků, 2 body)**"
   ]
  },
  {
   "cell_type": "code",
   "execution_count": 8,
   "metadata": {},
   "outputs": [],
   "source": [
    "class GaussClassifier:\n",
    "    def __init__(self, norms: Tuple[object, object], \n",
    "                 priors: Tuple[float, float]) -> None:\n",
    "        super().__init__()\n",
    "        self.__norms = norms\n",
    "        self.__priors = priors\n",
    "\n",
    "    def prob_class_1(self, xs: np.ndarray) -> np.ndarray:\n",
    "        pdf_pos, pdf_neg = self.__norms[0].pdf(xs), self.__norms[1].pdf(xs)\n",
    "        prior_pos, prior_neg = self.__priors\n",
    "        product = pdf_pos * prior_pos\n",
    "        return product / (product + pdf_neg * prior_neg)"
   ]
  },
  {
   "cell_type": "markdown",
   "metadata": {},
   "source": [
    "Nainstancujte dva generativní klasifikátory: jeden s rovnoměrnými priory a jeden s apriorní pravděpodobností 0.75 pro třídu 0 (negativní příklady).\n",
    "Pomocí funkce `evaluate()` vyhodnoťte jejich úspěšnost na validačních datech.\n",
    "\n",
    "**(2 řádky, 1 bod)**"
   ]
  },
  {
   "cell_type": "code",
   "execution_count": 9,
   "metadata": {},
   "outputs": [
    {
     "name": "stdout",
     "output_type": "stream",
     "text": [
      "flat: 0.809\n",
      "full: 0.8475\n"
     ]
    }
   ],
   "source": [
    "classifier_flat_prior = GaussClassifier(\n",
    "    (train_pos_norm, train_neg_norm), (.5, .5)\n",
    ")\n",
    "classifier_full_prior = GaussClassifier(\n",
    "    (train_pos_norm, train_neg_norm), (.25, .75)\n",
    ")\n",
    "\n",
    "print('flat:', evaluate(\n",
    "    classifier_flat_prior, val_dataset.xs[:, FOI], val_dataset.targets\n",
    "))\n",
    "print('full:', evaluate(\n",
    "    classifier_full_prior, val_dataset.xs[:, FOI], val_dataset.targets\n",
    "))"
   ]
  },
  {
   "cell_type": "markdown",
   "metadata": {},
   "source": [
    "Vykreslete průběh posteriorní pravděpodobnosti třídy 1 jako funkci příznaku 5 pro oba klasifikátory, opět v rozsahu $<-0.5; 1.5>$.\n",
    "Do grafu zakreslete i histogramy rozložení trénovacích dat, opět s `density=True` pro zachování dynamického rozsahu.\n",
    "\n",
    "**(8 řádků, 1 bod)**"
   ]
  },
  {
   "cell_type": "code",
   "execution_count": 10,
   "metadata": {},
   "outputs": [
    {
     "data": {
      "image/png": "[encoded data removed]",
      "text/plain": [
       "<Figure size 432x288 with 1 Axes>"
      ]
     },
     "metadata": {
      "needs_background": "light"
     },
     "output_type": "display_data"
    }
   ],
   "source": [
    "xs = np.linspace(-.5, 1.5, 100)\n",
    "plt.plot(\n",
    "    xs, classifier_flat_prior.prob_class_1(xs), color='blue',\n",
    "    label='Positive Posterior Prob. - Flat'\n",
    ")\n",
    "plt.plot(\n",
    "    xs, classifier_full_prior.prob_class_1(xs), color='magenta',\n",
    "    label='Positive Posterior Prob. - Full'\n",
    ")\n",
    "plt.hist(\n",
    "    (train_dataset.pos[:, FOI], train_dataset.neg[:, FOI]), bins=11,\n",
    "    density=True, color=('green', 'red'), alpha=.4, histtype='stepfilled',\n",
    "    label=('Positive Examples', 'Negative Examples')\n",
    ")\n",
    "plt.legend()\n",
    "plt.xlabel('Value')\n",
    "plt.ylabel('Probability Density')\n",
    "plt.show()"
   ]
  },
  {
   "cell_type": "markdown",
   "metadata": {},
   "source": [
    "Interpretujte, přímo v této textové buňce, každou rozhodovací hranici, která je v grafu patrná **(3 věty, 2 body)**:\n",
    "\n",
    "Jedna rozhodovací hranice je vidět kolem bodu 0.3. Tady začíná být vyšší pravděpodobnost, že daná hodnota patří do třídy 1. U `Full` klasifikátoru je pravděpodobnost toho, že hodnota v tomto bodě patří do třídy 1 o něco měnší, což je způsobené tím, že tento klasifikátor má vyšší apriorní pravděpodobnost třídy 0. Druhá rozhodovací hranice je kolem bodu 1.3. Zde začíná být nižší pravděpodobnost, že daná hodnota patří do třídy 1. Je to způsobeno tím, že funkce hustoty rozdělení pravděpodobnosti pro třídu 1 je \"vyšší\" a klesá rychleji. U `Full` klasifikátoru je daná pravděpodobnost opět o něco menší z analogických důvodů jako v předchozím případě."
   ]
  },
  {
   "cell_type": "markdown",
   "metadata": {},
   "source": [
    "# Diskriminativní klasifikátory\n",
    "V následující části budete přímo modelovat posteriorní pravděpodobnost třídy 1.\n",
    "Modely budou založeny na PyTorchi, ten si prosím nainstalujte.\n",
    "GPU rozhodně nepotřebujete, veškeré výpočty budou velmi rychlé, ne-li bleskové.\n",
    "\n",
    "Do začátku máte poskytnutou třídu klasifikátoru z jednoho příznaku."
   ]
  },
  {
   "cell_type": "code",
   "execution_count": 11,
   "metadata": {},
   "outputs": [],
   "source": [
    "import torch\n",
    "import torch.nn.functional as F\n",
    "\n",
    "class LogisticRegression(torch.nn.Module):\n",
    "    def __init__(self) -> None:\n",
    "        super().__init__()\n",
    "        self.__w = torch.nn.parameter.Parameter(torch.FloatTensor([1.]))\n",
    "        self.__b = torch.nn.parameter.Parameter(torch.FloatTensor([0.]))\n",
    "\n",
    "    def forward(self, x: torch.FloatTensor) -> torch.FloatTensor:\n",
    "        return torch.sigmoid(self.__w * x + self.__b)\n",
    "\n",
    "    def prob_class_1(self, x: np.ndarray) -> np.ndarray:\n",
    "        prob = self(torch.FloatTensor(x))\n",
    "        return prob.detach().numpy()"
   ]
  },
  {
   "cell_type": "markdown",
   "metadata": {},
   "source": [
    "Pro trénovaní diskriminativních modelů budete potřebovat minibatche.\n",
    "Implementujte funkci, která je bude z daných vstupních a cílových hodnot vytvářet.\n",
    "Výsledkem musí být možno iterovat, ideálně funkci napište jako generátor (využijte klíčové slovo `yield`).\n",
    "Jednotlivé prvky výstupu budou dvojice PyTorchových `FloatTensor`ů (musíte zkonvertovat z numpy a nastavit typ) -- první prvek vstupní data, druhý očekávané výstupy.\n",
    "Počítejte s tím, že vstup bude `numpy`ovské pole, rozumná implementace využije `np.random.permutation()` a [Advanced Indexing](https://numpy.org/doc/stable/reference/arrays.indexing.html).\n",
    "\n",
    "Připravený kód funkci použije na konstrukci tří minibatchí pro trénování identity, měli byste vidět celkem pět prvků náhodně uspořádaných do dvojic, ovšem s tím, že s sebou budou mít odpovídající výstupy.\n",
    "\n",
    "**(6 řádků, 2 body)**"
   ]
  },
  {
   "cell_type": "code",
   "execution_count": 12,
   "metadata": {},
   "outputs": [
    {
     "name": "stdout",
     "output_type": "stream",
     "text": [
      "x: tensor([3., 4.]), t: tensor([3., 4.])\n",
      "x: tensor([2., 1.]), t: tensor([2., 1.])\n",
      "x: tensor([5.]), t: tensor([5.])\n"
     ]
    }
   ],
   "source": [
    "def batch_provider(xs: np.ndarray, targets: np.ndarray, batch_size: int=10\n",
    "                  ) -> Iterable[Tuple[torch.FloatTensor, torch.FloatTensor]]:\n",
    "    idx = np.random.permutation(range(len(xs)))\n",
    "    for i in range(0, len(xs), batch_size):\n",
    "        x = torch.FloatTensor(xs[idx[i:i + batch_size]])\n",
    "        t = torch.FloatTensor(targets[idx[i:i + batch_size]])\n",
    "        yield x, t\n",
    "\n",
    "inputs = np.asarray([1., 2., 3., 4., 5.])\n",
    "targets = np.asarray([1., 2., 3., 4., 5.])\n",
    "for x, t in batch_provider(inputs, targets, 2):\n",
    "    print(f'x: {x}, t: {t}')"
   ]
  },
  {
   "cell_type": "markdown",
   "metadata": {},
   "source": [
    "Dalším krokem je implementovat funkci, která model vytvoří a natrénuje.\n",
    "Jejím výstupem bude (1) natrénovaný model, (2) průběh trénovací loss a (3) průběh validační přesnosti.\n",
    "Jako model vracejte ten, který dosáhne nejlepší validační přesnosti.\n",
    "Jako loss použijte binární cross-entropii (`F.binary_cross_entropy()`), akumulujte ji přes minibatche a logujte průměr.\n",
    "Pro výpočet validační přesnosti využijte funkci `evaluate()`.\n",
    "Oba průběhy vracejte jako obyčejné seznamy.\n",
    "\n",
    "V implementaci budete potřebovat dvě zanořené smyčky: jednu pro epochy (průchody přes celý dataset) a uvnitř druhou, která bude iterovat přes jednotlivé minibatche.\n",
    "Na konci každé epochy vyhodnoťte model na validačních datech.\n",
    "K datasetům (trénovacímu a validačnímu) přistupujte bezostyšně jako ke globálním proměnným.\n",
    "\n",
    "**(cca 14 řádků, 3 body)**"
   ]
  },
  {
   "cell_type": "code",
   "execution_count": 13,
   "metadata": {},
   "outputs": [],
   "source": [
    "def train_single_fea_llr(fea_no: int, nb_epochs: int, lr: float,\n",
    "                         batch_size: int) -> Tuple[LogisticRegression, \n",
    "                                                   List[float], List[float]]:\n",
    "    ''' fea_no -- which feature to train on\n",
    "        nb_epochs -- how many times to go through the full training data\n",
    "        lr -- learning rate\n",
    "        batch_size -- size of minibatches\n",
    "    '''\n",
    "    global train_dataset, val_dataset\n",
    "\n",
    "    model = LogisticRegression()\n",
    "    best_model = copy.deepcopy(model)\n",
    "    losses = []\n",
    "    accuracies = []\n",
    "    optimizer = torch.optim.SGD(model.parameters(), lr=lr)\n",
    "\n",
    "    for _ in range(nb_epochs):\n",
    "        loss = .0\n",
    "        batches = batch_provider(\n",
    "            train_dataset.xs[:, fea_no], train_dataset.targets, batch_size\n",
    "        )\n",
    "        for i, (x, t) in enumerate(batches, 1):\n",
    "            optimizer.zero_grad()\n",
    "            y = model(x)\n",
    "            entropy = F.binary_cross_entropy(y, t)\n",
    "            entropy.backward()\n",
    "            optimizer.step()\n",
    "            loss += entropy.item()\n",
    "\n",
    "        losses.append(loss / i)\n",
    "        with torch.no_grad():\n",
    "            acc = evaluate(\n",
    "                model, val_dataset.xs[:, fea_no], val_dataset.targets\n",
    "            )\n",
    "        if not accuracies or acc > max(accuracies):\n",
    "            best_model = copy.deepcopy(model)\n",
    "        accuracies.append(acc)\n",
    "\n",
    "    return best_model, losses, accuracies"
   ]
  },
  {
   "cell_type": "markdown",
   "metadata": {},
   "source": [
    "Funkci zavolejte a natrénujte model.\n",
    "Uveďte zde parametry, které vám dají slušný výsledek.\n",
    "Měli byste dostat přesnost srovnatelnou s generativním klasifikátorem s nastavenými priory.\n",
    "Neměli byste potřebovat víc než 100 epoch.\n",
    "Vykreslete průběh trénovací loss a validační přesnosti, osu x značte v epochách.\n",
    "\n",
    "V druhém grafu vykreslete histogramy trénovacích dat a pravděpodobnost třídy 1 pro x od -0.5 do 1.5, podobně jako výše u generativních klasifikátorů.\n",
    "Při výpočtu výstupů využijte `with torch.no_grad():`.\n",
    "\n",
    "**(1 + 6 + 9 řádků, 1 bod)**"
   ]
  },
  {
   "cell_type": "code",
   "execution_count": 14,
   "metadata": {},
   "outputs": [
    {
     "data": {
      "image/png": "[encoded data removed]",
      "text/plain": [
       "<Figure size 432x288 with 1 Axes>"
      ]
     },
     "metadata": {
      "needs_background": "light"
     },
     "output_type": "display_data"
    },
    {
     "data": {
      "image/png": "[encoded data removed]",
      "text/plain": [
       "<Figure size 432x288 with 1 Axes>"
      ]
     },
     "metadata": {
      "needs_background": "light"
     },
     "output_type": "display_data"
    }
   ],
   "source": [
    "classifier_llr_single_fea, losses, accuracies = \\\n",
    "    train_single_fea_llr(FOI, 100, .01, 20)\n",
    "\n",
    "plt.plot(accuracies, color='blue', label='Accuracy')\n",
    "plt.plot(losses, color='magenta', label='Loss')\n",
    "plt.legend()\n",
    "plt.xlabel('Epoch')\n",
    "plt.show()\n",
    "\n",
    "xs = np.linspace(-.5, 1.5, 100)\n",
    "with torch.no_grad():\n",
    "    plt.plot(\n",
    "        xs, classifier_llr_single_fea.prob_class_1(xs), color='green',\n",
    "        label='Positive Posterior Prob.'\n",
    "    )\n",
    "plt.hist(\n",
    "    (train_dataset.pos[:, FOI], train_dataset.neg[:, FOI]), bins=11,\n",
    "    density=True, color=('green', 'red'), alpha=.4, histtype='stepfilled',\n",
    "    label=('Positive Examples', 'Negative Examples')\n",
    ")\n",
    "plt.legend()\n",
    "plt.xlabel('Value')\n",
    "plt.ylabel('Probability Density')\n",
    "plt.show()"
   ]
  },
  {
   "cell_type": "markdown",
   "metadata": {},
   "source": [
    "## Všechny vstupní příznaky\n",
    "V posledním cvičení natrénujete logistickou regresi, která využije všech sedm vstupních příznaků.\n",
    "\n",
    "Prvním krokem je naimplementovat příslusný model.\n",
    "Bezostyšně zkopírujte tělo třídy `LogisticRegresion` a upravte ji tak, aby zvládala libovolný počet vstupů, využijte `torch.nn.Linear`.\n",
    "U výstupu metody `.forward()` dejte pozor, aby měl výstup tvar `[N]`; pravděpodobně budete potřebovat `squeeze`.\n",
    "\n",
    "**(9 řádků, 1 bod)**"
   ]
  },
  {
   "cell_type": "code",
   "execution_count": 15,
   "metadata": {},
   "outputs": [],
   "source": [
    "class FullLogisticRegression(torch.nn.Module):\n",
    "    def __init__(self, nb_features: int) -> None:\n",
    "        super().__init__()\n",
    "        self.__m = torch.nn.Linear(nb_features, 1)\n",
    "\n",
    "    def forward(self, x: torch.FloatTensor) -> torch.FloatTensor:\n",
    "        return torch.squeeze(torch.sigmoid(self.__m(x)))\n",
    "\n",
    "    def prob_class_1(self, x: np.ndarray) -> np.ndarray:\n",
    "        prob = self(torch.FloatTensor(x))\n",
    "        return prob.detach().numpy()"
   ]
  },
  {
   "cell_type": "markdown",
   "metadata": {},
   "source": [
    "Podobně jako u jednodimenzionálni regrese implementujte funkci pro trénovaní plné logistické regrese.\n",
    "V ideálním případě vyfaktorujete společnou implementaci, které budete pouze předávat různá trénovací a validační data.\n",
    "\n",
    "Zvídaví mohou zkusit `Adam`a jako optimalizátor namísto obyčejného `SGD`.\n",
    "\n",
    "Funkci zavolejte, natrénujte model.\n",
    "Opět vykreslete průběh trénovací loss a validační přesnosti.\n",
    "Měli byste se s přesností dostat nad 90 %.\n",
    "\n",
    "**(ne víc než cca 30 řádků při kopírování, 1 bod)**"
   ]
  },
  {
   "cell_type": "code",
   "execution_count": 16,
   "metadata": {},
   "outputs": [
    {
     "data": {
      "image/png": "[encoded data removed]",
      "text/plain": [
       "<Figure size 432x288 with 1 Axes>"
      ]
     },
     "metadata": {
      "needs_background": "light"
     },
     "output_type": "display_data"
    }
   ],
   "source": [
    "def train_full_llr(nb_epochs: int, lr: float, batch_size: int\n",
    "                  ) -> Tuple[FullLogisticRegression, List[float], List[float]]:\n",
    "    ''' nb_epochs -- how many times to go through the full training data\n",
    "        lr -- learning rate\n",
    "        batch_size -- size of minibatches\n",
    "    '''\n",
    "    global train_dataset, val_dataset\n",
    "\n",
    "    model = FullLogisticRegression(train_dataset.xs.shape[1])\n",
    "    best_model = copy.deepcopy(model)\n",
    "    losses = []\n",
    "    accuracies = []\n",
    "    optimizer = torch.optim.Adam(model.parameters(), lr=lr)\n",
    "       \n",
    "    for _ in range(nb_epochs):\n",
    "        loss = .0\n",
    "        batches = batch_provider(\n",
    "            train_dataset.xs, train_dataset.targets, batch_size\n",
    "        )\n",
    "        for i, (x, t) in enumerate(batches, 1):\n",
    "            optimizer.zero_grad()\n",
    "            y = model(x)\n",
    "            entropy = F.binary_cross_entropy(y, t)\n",
    "            entropy.backward()\n",
    "            optimizer.step()\n",
    "            loss += entropy.item()\n",
    "\n",
    "        losses.append(loss / i)\n",
    "        with torch.no_grad():\n",
    "            acc = evaluate(model, val_dataset.xs, val_dataset.targets)\n",
    "        if not accuracies or acc > max(accuracies):\n",
    "            best_model = copy.deepcopy(model)\n",
    "        accuracies.append(acc)\n",
    "\n",
    "    return best_model, losses, accuracies\n",
    "\n",
    "classifier_llr_full, losses, accuracies = train_full_llr(100, .005, 600)\n",
    "\n",
    "plt.plot(accuracies, color='blue', label='Accuracy')\n",
    "plt.plot(losses, color='magenta', label='Loss')\n",
    "plt.legend()\n",
    "plt.xlabel('Epoch')\n",
    "plt.show()"
   ]
  },
  {
   "cell_type": "markdown",
   "metadata": {},
   "source": [
    "# Závěrem\n",
    "Konečně vyhodnoťte všech pět vytvořených klasifikátorů na testovacích datech. Stačí doplnit jejich názvy a předat jim příznaky, na které jsou zvyklé.\n",
    "\n",
    "**(0.5 bodu)**"
   ]
  },
  {
   "cell_type": "code",
   "execution_count": 17,
   "metadata": {},
   "outputs": [
    {
     "name": "stdout",
     "output_type": "stream",
     "text": [
      "Baseline: 0.75\n",
      "Generative classifier (w/o prior): 0.8\n",
      "Generative classifier (correct): 0.847\n",
      "Logistic regression: 0.853\n",
      "Logistic regression all features: 0.9685\n"
     ]
    }
   ],
   "source": [
    "xs_full = test_dataset.xs\n",
    "xs_foi = test_dataset.xs[:, FOI]\n",
    "targets = test_dataset.targets\n",
    "\n",
    "print('Baseline:', evaluate(baseline, xs_foi, targets))\n",
    "print('Generative classifier (w/o prior):',\n",
    "      evaluate(classifier_flat_prior, xs_foi, targets))\n",
    "print('Generative classifier (correct):',\n",
    "      evaluate(classifier_full_prior, xs_foi, targets))\n",
    "print('Logistic regression:',\n",
    "      evaluate(classifier_llr_single_fea, xs_foi, targets))\n",
    "print('Logistic regression all features:',\n",
    "      evaluate(classifier_llr_full, xs_full, targets))"
   ]
  },
  {
   "cell_type": "markdown",
   "metadata": {},
   "source": [
    "Blahopřejeme ke zvládnutí domácí úlohy! Notebook spusťte načisto (Kernel -> Restart & Run all), vyexportuje jako PDF a odevzdejte pojmenovaný svým loginem.\n",
    "\n",
    "Mimochodem, vstupní data nejsou synteticky generovaná. Nasbírali jsme je z projektu; Vaše klasifikátory v této domácí úloze predikují, že daný hráč vyhraje; takže by se daly použít jako heuristika pro ohodnocování listových uzlů ve stavovém prostoru hry.\n",
    "Pro představu, odhadujete to z pozic pět kol před koncem partie pro daného hráče.\n",
    "Poskytnuté příznaky popisují globální charakteristiky stavu hry jako je například poměr délky hranic předmětného hráče k ostatním hranicím."
   ]
  }
 ],
 "metadata": {
  "kernelspec": {
   "display_name": "Python 3",
   "language": "python",
   "name": "python3"
  },
  "language_info": {
   "codemirror_mode": {
    "name": "ipython",
    "version": 3
   },
   "file_extension": ".py",
   "mimetype": "text/x-python",
   "name": "python",
   "nbconvert_exporter": "python",
   "pygments_lexer": "ipython3",
   "version": "3.8.6"
  }
 },
 "nbformat": 4,
 "nbformat_minor": 4
}
